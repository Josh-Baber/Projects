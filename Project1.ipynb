{
 "cells": [
  {
   "cell_type": "markdown",
   "id": "1f4a31c1-3223-410e-a594-f2fac0e567aa",
   "metadata": {},
   "source": [
    "# NCSU 2022 Summer I Term ST590 Project 1\n",
    "## Joshua Baber and Muhammer Kurt"
   ]
  },
  {
   "cell_type": "markdown",
   "id": "267e4313-057a-46d0-b7dd-06d8be83b224",
   "metadata": {},
   "source": [
    "## Introduction"
   ]
  },
  {
   "cell_type": "markdown",
   "id": "6f4317cb-21ec-4528-abfd-a3e4bb340afe",
   "metadata": {},
   "source": [
    "The purpose of this report is to analyze data that was collected on used motorcycles using graphical and tabular representations and then making predictions for the selling price of a motorcycle.  We will use two algorithms to make predictions, one with a grid search and the other with a gradient descent.  Each of the algorithms uses two methods to make predictions, one that just uses the selling price from the data, and the other that uses both the selling price and kilometers driven from the data."
   ]
  },
  {
   "cell_type": "code",
   "execution_count": 1,
   "id": "c8cfd681-f6f6-443e-92ef-d4b53c87a2b6",
   "metadata": {},
   "outputs": [
    {
     "data": {
      "text/html": [
       "<div>\n",
       "<style scoped>\n",
       "    .dataframe tbody tr th:only-of-type {\n",
       "        vertical-align: middle;\n",
       "    }\n",
       "\n",
       "    .dataframe tbody tr th {\n",
       "        vertical-align: top;\n",
       "    }\n",
       "\n",
       "    .dataframe thead th {\n",
       "        text-align: right;\n",
       "    }\n",
       "</style>\n",
       "<table border=\"1\" class=\"dataframe\">\n",
       "  <thead>\n",
       "    <tr style=\"text-align: right;\">\n",
       "      <th></th>\n",
       "      <th>name</th>\n",
       "      <th>selling_price</th>\n",
       "      <th>year</th>\n",
       "      <th>seller_type</th>\n",
       "      <th>owner</th>\n",
       "      <th>km_driven</th>\n",
       "      <th>ex_showroom_price</th>\n",
       "    </tr>\n",
       "  </thead>\n",
       "  <tbody>\n",
       "    <tr>\n",
       "      <th>0</th>\n",
       "      <td>Royal Enfield Classic 350</td>\n",
       "      <td>175000</td>\n",
       "      <td>2019</td>\n",
       "      <td>Individual</td>\n",
       "      <td>1st owner</td>\n",
       "      <td>350</td>\n",
       "      <td>NaN</td>\n",
       "    </tr>\n",
       "    <tr>\n",
       "      <th>1</th>\n",
       "      <td>Honda Dio</td>\n",
       "      <td>45000</td>\n",
       "      <td>2017</td>\n",
       "      <td>Individual</td>\n",
       "      <td>1st owner</td>\n",
       "      <td>5650</td>\n",
       "      <td>NaN</td>\n",
       "    </tr>\n",
       "    <tr>\n",
       "      <th>2</th>\n",
       "      <td>Royal Enfield Classic Gunmetal Grey</td>\n",
       "      <td>150000</td>\n",
       "      <td>2018</td>\n",
       "      <td>Individual</td>\n",
       "      <td>1st owner</td>\n",
       "      <td>12000</td>\n",
       "      <td>148114.0</td>\n",
       "    </tr>\n",
       "    <tr>\n",
       "      <th>3</th>\n",
       "      <td>Yamaha Fazer FI V 2.0 [2016-2018]</td>\n",
       "      <td>65000</td>\n",
       "      <td>2015</td>\n",
       "      <td>Individual</td>\n",
       "      <td>1st owner</td>\n",
       "      <td>23000</td>\n",
       "      <td>89643.0</td>\n",
       "    </tr>\n",
       "    <tr>\n",
       "      <th>4</th>\n",
       "      <td>Yamaha SZ [2013-2014]</td>\n",
       "      <td>20000</td>\n",
       "      <td>2011</td>\n",
       "      <td>Individual</td>\n",
       "      <td>2nd owner</td>\n",
       "      <td>21000</td>\n",
       "      <td>NaN</td>\n",
       "    </tr>\n",
       "  </tbody>\n",
       "</table>\n",
       "</div>"
      ],
      "text/plain": [
       "                                  name  selling_price  year seller_type  \\\n",
       "0            Royal Enfield Classic 350         175000  2019  Individual   \n",
       "1                            Honda Dio          45000  2017  Individual   \n",
       "2  Royal Enfield Classic Gunmetal Grey         150000  2018  Individual   \n",
       "3    Yamaha Fazer FI V 2.0 [2016-2018]          65000  2015  Individual   \n",
       "4                Yamaha SZ [2013-2014]          20000  2011  Individual   \n",
       "\n",
       "       owner  km_driven  ex_showroom_price  \n",
       "0  1st owner        350                NaN  \n",
       "1  1st owner       5650                NaN  \n",
       "2  1st owner      12000           148114.0  \n",
       "3  1st owner      23000            89643.0  \n",
       "4  2nd owner      21000                NaN  "
      ]
     },
     "execution_count": 1,
     "metadata": {},
     "output_type": "execute_result"
    }
   ],
   "source": [
    "import pandas as pd\n",
    "bikedata = pd.read_csv(\"C:/Users/squas/OneDrive/Desktop/ST 590/Code/Data/bikeDetails.csv\")\n",
    "bikedata.head()"
   ]
  },
  {
   "cell_type": "markdown",
   "id": "b9955868-347f-4b91-a51b-4df2fe1616e4",
   "metadata": {},
   "source": [
    "We used the `matplotlib` and `pandas` modules for tables and graphical representations in the EDA part.  We used the `pandas`, `numpy`, and `math` modules for the algorithms in the second part."
   ]
  },
  {
   "cell_type": "markdown",
   "id": "3003380a-d2cb-4fdb-b563-2a3c3039a245",
   "metadata": {},
   "source": [
    "## 1. Exploratory Data Analysis"
   ]
  },
  {
   "cell_type": "markdown",
   "id": "83ca34cd-f32d-47ae-9267-e1237d8cfd09",
   "metadata": {},
   "source": [
    "Let's first see the data types for the variables in our bikedata data set.  We see that the categorical variables were saved as objects."
   ]
  },
  {
   "cell_type": "code",
   "execution_count": 2,
   "id": "f61bfe47-7552-41d7-a9c2-d4379a60294a",
   "metadata": {},
   "outputs": [
    {
     "name": "stdout",
     "output_type": "stream",
     "text": [
      "<class 'pandas.core.frame.DataFrame'>\n",
      "RangeIndex: 1061 entries, 0 to 1060\n",
      "Data columns (total 7 columns):\n",
      " #   Column             Non-Null Count  Dtype  \n",
      "---  ------             --------------  -----  \n",
      " 0   name               1061 non-null   object \n",
      " 1   selling_price      1061 non-null   int64  \n",
      " 2   year               1061 non-null   int64  \n",
      " 3   seller_type        1061 non-null   object \n",
      " 4   owner              1061 non-null   object \n",
      " 5   km_driven          1061 non-null   int64  \n",
      " 6   ex_showroom_price  626 non-null    float64\n",
      "dtypes: float64(1), int64(3), object(3)\n",
      "memory usage: 58.1+ KB\n"
     ]
    }
   ],
   "source": [
    "bikedata.info()"
   ]
  },
  {
   "cell_type": "markdown",
   "id": "f399855c-3628-4175-bb15-ce071cb3236c",
   "metadata": {},
   "source": [
    "Next, we can see the statistical summary for the selling_price variable.  This will return the length, mean, standard deviation, and five number summary."
   ]
  },
  {
   "cell_type": "code",
   "execution_count": 3,
   "id": "f0984fdf-f393-470a-baab-480007da4154",
   "metadata": {},
   "outputs": [
    {
     "data": {
      "text/plain": [
       "count      1061.000000\n",
       "mean      59638.151744\n",
       "std       56304.291973\n",
       "min        5000.000000\n",
       "25%       28000.000000\n",
       "50%       45000.000000\n",
       "75%       70000.000000\n",
       "max      760000.000000\n",
       "Name: selling_price, dtype: float64"
      ]
     },
     "execution_count": 3,
     "metadata": {},
     "output_type": "execute_result"
    }
   ],
   "source": [
    "bikedata.selling_price.describe()"
   ]
  },
  {
   "cell_type": "markdown",
   "id": "b073e64c-e56b-4dcf-8a0b-42ed9d6009b1",
   "metadata": {},
   "source": [
    "Now we need to change the categorical variables into \"category type\" variables.  We use a lambda function to do that."
   ]
  },
  {
   "cell_type": "code",
   "execution_count": 4,
   "id": "872ccb3d-cd72-438f-b680-8dff9ed72b44",
   "metadata": {},
   "outputs": [
    {
     "name": "stdout",
     "output_type": "stream",
     "text": [
      "<class 'pandas.core.frame.DataFrame'>\n",
      "RangeIndex: 1061 entries, 0 to 1060\n",
      "Data columns (total 3 columns):\n",
      " #   Column       Non-Null Count  Dtype   \n",
      "---  ------       --------------  -----   \n",
      " 0   name         1061 non-null   category\n",
      " 1   seller_type  1061 non-null   category\n",
      " 2   owner        1061 non-null   category\n",
      "dtypes: category(3)\n",
      "memory usage: 14.9 KB\n"
     ]
    }
   ],
   "source": [
    "# Create a list of the variables to make the category type\n",
    "categorical_variables = [\"name\", \"seller_type\", \"owner\"]\n",
    "\n",
    "# Use the lambda function to apply the .astype() method to our list\n",
    "categorical_variables_in_bikedata = \\\n",
    "bikedata[categorical_variables].apply(lambda column: column.astype(\"category\"))\n",
    "\n",
    "# Check that they are category type\n",
    "categorical_variables_in_bikedata.info()"
   ]
  },
  {
   "cell_type": "markdown",
   "id": "d50c7f2e-3e2d-44c0-ba4a-f5e7400a4e58",
   "metadata": {},
   "source": [
    "Let's make a scatter plot of selling price with another numeric variable.  We chose the km_driven variable as the second variable.  We see that most of the bikes in our data set were driven less than (approximately) 180,000 km and were sold at a price of up to (approximately) 220,000.  We can see that there are quite a few outliers outside of these ranges."
   ]
  },
  {
   "cell_type": "code",
   "execution_count": 5,
   "id": "278c4739-e09c-491b-b860-619193d76ce6",
   "metadata": {},
   "outputs": [
    {
     "data": {
      "image/png": "[encoded data removed]",
      "text/plain": [
       "<Figure size 432x288 with 1 Axes>"
      ]
     },
     "metadata": {
      "needs_background": "light"
     },
     "output_type": "display_data"
    }
   ],
   "source": [
    "import matplotlib.pyplot as plt\n",
    "\n",
    "# Create scatter plot of km_driven on x-axis and selling_price on y-axis\n",
    "# Set some custom settings like color, size, and marker\n",
    "bikedata.plot.scatter(x = \"km_driven\", y = \"selling_price\", s = 80, c = \"Red\", \n",
    "                      marker = \"v\")\n",
    "\n",
    "# Give plot titles and labels\n",
    "plt.title(\"Scatter Plot for selling price vs km driven\")\n",
    "\n",
    "plt.xlabel(\"km driven\")\n",
    "\n",
    "plt.ylabel(\"selling price\")\n",
    "\n",
    "plt.show()\n",
    "\n",
    "plt.close()"
   ]
  },
  {
   "cell_type": "markdown",
   "id": "669774f9-7a58-4806-8b43-9548fd0819ee",
   "metadata": {},
   "source": [
    "Instead of having to look at the year column, it would be better to create a new column with the \"age\" values of each bike and see the correlation between the selling price and age."
   ]
  },
  {
   "cell_type": "code",
   "execution_count": 6,
   "id": "ca25deaa-4e4b-4029-bf68-c89d097bb75d",
   "metadata": {},
   "outputs": [
    {
     "data": {
      "text/html": [
       "<div>\n",
       "<style scoped>\n",
       "    .dataframe tbody tr th:only-of-type {\n",
       "        vertical-align: middle;\n",
       "    }\n",
       "\n",
       "    .dataframe tbody tr th {\n",
       "        vertical-align: top;\n",
       "    }\n",
       "\n",
       "    .dataframe thead th {\n",
       "        text-align: right;\n",
       "    }\n",
       "</style>\n",
       "<table border=\"1\" class=\"dataframe\">\n",
       "  <thead>\n",
       "    <tr style=\"text-align: right;\">\n",
       "      <th></th>\n",
       "      <th>name</th>\n",
       "      <th>selling_price</th>\n",
       "      <th>year</th>\n",
       "      <th>seller_type</th>\n",
       "      <th>owner</th>\n",
       "      <th>km_driven</th>\n",
       "      <th>ex_showroom_price</th>\n",
       "      <th>age</th>\n",
       "    </tr>\n",
       "  </thead>\n",
       "  <tbody>\n",
       "    <tr>\n",
       "      <th>1056</th>\n",
       "      <td>Activa 3g</td>\n",
       "      <td>17000</td>\n",
       "      <td>2010</td>\n",
       "      <td>Individual</td>\n",
       "      <td>1st owner</td>\n",
       "      <td>500000</td>\n",
       "      <td>52000.0</td>\n",
       "      <td>10</td>\n",
       "    </tr>\n",
       "    <tr>\n",
       "      <th>1057</th>\n",
       "      <td>Honda CB twister</td>\n",
       "      <td>16000</td>\n",
       "      <td>2012</td>\n",
       "      <td>Individual</td>\n",
       "      <td>1st owner</td>\n",
       "      <td>33000</td>\n",
       "      <td>51000.0</td>\n",
       "      <td>8</td>\n",
       "    </tr>\n",
       "    <tr>\n",
       "      <th>1058</th>\n",
       "      <td>Bajaj Discover 125</td>\n",
       "      <td>15000</td>\n",
       "      <td>2013</td>\n",
       "      <td>Individual</td>\n",
       "      <td>2nd owner</td>\n",
       "      <td>35000</td>\n",
       "      <td>57000.0</td>\n",
       "      <td>7</td>\n",
       "    </tr>\n",
       "    <tr>\n",
       "      <th>1059</th>\n",
       "      <td>Honda CB Shine</td>\n",
       "      <td>12000</td>\n",
       "      <td>2009</td>\n",
       "      <td>Individual</td>\n",
       "      <td>1st owner</td>\n",
       "      <td>53000</td>\n",
       "      <td>58000.0</td>\n",
       "      <td>11</td>\n",
       "    </tr>\n",
       "    <tr>\n",
       "      <th>1060</th>\n",
       "      <td>Bajaj Pulsar 150</td>\n",
       "      <td>10000</td>\n",
       "      <td>2008</td>\n",
       "      <td>Individual</td>\n",
       "      <td>1st owner</td>\n",
       "      <td>92233</td>\n",
       "      <td>75000.0</td>\n",
       "      <td>12</td>\n",
       "    </tr>\n",
       "  </tbody>\n",
       "</table>\n",
       "</div>"
      ],
      "text/plain": [
       "                    name  selling_price  year seller_type      owner  \\\n",
       "1056           Activa 3g          17000  2010  Individual  1st owner   \n",
       "1057    Honda CB twister          16000  2012  Individual  1st owner   \n",
       "1058  Bajaj Discover 125          15000  2013  Individual  2nd owner   \n",
       "1059      Honda CB Shine          12000  2009  Individual  1st owner   \n",
       "1060    Bajaj Pulsar 150          10000  2008  Individual  1st owner   \n",
       "\n",
       "      km_driven  ex_showroom_price  age  \n",
       "1056     500000            52000.0   10  \n",
       "1057      33000            51000.0    8  \n",
       "1058      35000            57000.0    7  \n",
       "1059      53000            58000.0   11  \n",
       "1060      92233            75000.0   12  "
      ]
     },
     "execution_count": 6,
     "metadata": {},
     "output_type": "execute_result"
    }
   ],
   "source": [
    "# Create empty list to append the age values to\n",
    "agevalues = []\n",
    "\n",
    "# Loop through each value in the year columns\n",
    "for i in range(0,1061):\n",
    "    # Calculate the age j by subtracting the year i from 2020\n",
    "    # (which is the year the data was collected)\n",
    "    j = 2020 - bikedata.year[i]\n",
    "    # Append the age value to our list agevalues\n",
    "    agevalues.append(j)\n",
    "\n",
    "# Add the column of the age values with the heading \"age\" \n",
    "bikedata[\"age\"] = agevalues\n",
    "\n",
    "# Let's see if it's okay\n",
    "bikedata.tail()"
   ]
  },
  {
   "cell_type": "markdown",
   "id": "14e78ba5-07b2-468f-a749-e392bff59bba",
   "metadata": {},
   "source": [
    "Okay, let's now see the statistical summary of all numerical variables in our data set with the `.describe()` method.  When we check the statistical summary of the numerical variables, we see that the selling_price and km_driven variables are so widely spread that they have big standard deviations which are close to and more than their mean values. It seems that the outliers play a significant role on those."
   ]
  },
  {
   "cell_type": "code",
   "execution_count": 7,
   "id": "e3cc23ce-541c-45c0-9e92-3480553d5132",
   "metadata": {},
   "outputs": [
    {
     "data": {
      "text/html": [
       "<div>\n",
       "<style scoped>\n",
       "    .dataframe tbody tr th:only-of-type {\n",
       "        vertical-align: middle;\n",
       "    }\n",
       "\n",
       "    .dataframe tbody tr th {\n",
       "        vertical-align: top;\n",
       "    }\n",
       "\n",
       "    .dataframe thead th {\n",
       "        text-align: right;\n",
       "    }\n",
       "</style>\n",
       "<table border=\"1\" class=\"dataframe\">\n",
       "  <thead>\n",
       "    <tr style=\"text-align: right;\">\n",
       "      <th></th>\n",
       "      <th>selling_price</th>\n",
       "      <th>km_driven</th>\n",
       "      <th>ex_showroom_price</th>\n",
       "      <th>age</th>\n",
       "    </tr>\n",
       "  </thead>\n",
       "  <tbody>\n",
       "    <tr>\n",
       "      <th>count</th>\n",
       "      <td>1061.000000</td>\n",
       "      <td>1061.000000</td>\n",
       "      <td>6.260000e+02</td>\n",
       "      <td>1061.000000</td>\n",
       "    </tr>\n",
       "    <tr>\n",
       "      <th>mean</th>\n",
       "      <td>59638.151744</td>\n",
       "      <td>34359.833176</td>\n",
       "      <td>8.795871e+04</td>\n",
       "      <td>6.132893</td>\n",
       "    </tr>\n",
       "    <tr>\n",
       "      <th>std</th>\n",
       "      <td>56304.291973</td>\n",
       "      <td>51623.152702</td>\n",
       "      <td>7.749659e+04</td>\n",
       "      <td>4.301191</td>\n",
       "    </tr>\n",
       "    <tr>\n",
       "      <th>min</th>\n",
       "      <td>5000.000000</td>\n",
       "      <td>350.000000</td>\n",
       "      <td>3.049000e+04</td>\n",
       "      <td>0.000000</td>\n",
       "    </tr>\n",
       "    <tr>\n",
       "      <th>25%</th>\n",
       "      <td>28000.000000</td>\n",
       "      <td>13500.000000</td>\n",
       "      <td>5.485200e+04</td>\n",
       "      <td>3.000000</td>\n",
       "    </tr>\n",
       "    <tr>\n",
       "      <th>50%</th>\n",
       "      <td>45000.000000</td>\n",
       "      <td>25000.000000</td>\n",
       "      <td>7.275250e+04</td>\n",
       "      <td>5.000000</td>\n",
       "    </tr>\n",
       "    <tr>\n",
       "      <th>75%</th>\n",
       "      <td>70000.000000</td>\n",
       "      <td>43000.000000</td>\n",
       "      <td>8.703150e+04</td>\n",
       "      <td>9.000000</td>\n",
       "    </tr>\n",
       "    <tr>\n",
       "      <th>max</th>\n",
       "      <td>760000.000000</td>\n",
       "      <td>880000.000000</td>\n",
       "      <td>1.278000e+06</td>\n",
       "      <td>32.000000</td>\n",
       "    </tr>\n",
       "  </tbody>\n",
       "</table>\n",
       "</div>"
      ],
      "text/plain": [
       "       selling_price      km_driven  ex_showroom_price          age\n",
       "count    1061.000000    1061.000000       6.260000e+02  1061.000000\n",
       "mean    59638.151744   34359.833176       8.795871e+04     6.132893\n",
       "std     56304.291973   51623.152702       7.749659e+04     4.301191\n",
       "min      5000.000000     350.000000       3.049000e+04     0.000000\n",
       "25%     28000.000000   13500.000000       5.485200e+04     3.000000\n",
       "50%     45000.000000   25000.000000       7.275250e+04     5.000000\n",
       "75%     70000.000000   43000.000000       8.703150e+04     9.000000\n",
       "max    760000.000000  880000.000000       1.278000e+06    32.000000"
      ]
     },
     "execution_count": 7,
     "metadata": {},
     "output_type": "execute_result"
    }
   ],
   "source": [
    "# Creating a list of the numerical variables in our data set\n",
    "bikedata_numerical_variables = bikedata[[\"selling_price\", \"km_driven\", \n",
    "                                         \"ex_showroom_price\", \"age\"]]\n",
    "# Use the .describe() method to see the statistics\n",
    "bikedata_numerical_variables.describe()"
   ]
  },
  {
   "cell_type": "markdown",
   "id": "e6bcda5f-447b-48cb-8441-84bc56dc5816",
   "metadata": {},
   "source": [
    "We created a correlation matrix for our numerical variables in bikedata using the `.corr()` method.  Intuitively, we should see a strong negative correlation between the \"selling_price and km_driven\" and \"selling_price and age\" pairs, but the correlation between them is quite weak. Perhaps the selling_price might be mostly related to the brand of the bike."
   ]
  },
  {
   "cell_type": "code",
   "execution_count": 8,
   "id": "cc302e0c-5c06-40ee-8b10-78b3f5167d98",
   "metadata": {},
   "outputs": [
    {
     "data": {
      "text/html": [
       "<div>\n",
       "<style scoped>\n",
       "    .dataframe tbody tr th:only-of-type {\n",
       "        vertical-align: middle;\n",
       "    }\n",
       "\n",
       "    .dataframe tbody tr th {\n",
       "        vertical-align: top;\n",
       "    }\n",
       "\n",
       "    .dataframe thead th {\n",
       "        text-align: right;\n",
       "    }\n",
       "</style>\n",
       "<table border=\"1\" class=\"dataframe\">\n",
       "  <thead>\n",
       "    <tr style=\"text-align: right;\">\n",
       "      <th></th>\n",
       "      <th>selling_price</th>\n",
       "      <th>km_driven</th>\n",
       "      <th>ex_showroom_price</th>\n",
       "      <th>age</th>\n",
       "    </tr>\n",
       "  </thead>\n",
       "  <tbody>\n",
       "    <tr>\n",
       "      <th>selling_price</th>\n",
       "      <td>1.000000</td>\n",
       "      <td>-0.212937</td>\n",
       "      <td>0.918583</td>\n",
       "      <td>-0.402188</td>\n",
       "    </tr>\n",
       "    <tr>\n",
       "      <th>km_driven</th>\n",
       "      <td>-0.212937</td>\n",
       "      <td>1.000000</td>\n",
       "      <td>-0.122011</td>\n",
       "      <td>0.288675</td>\n",
       "    </tr>\n",
       "    <tr>\n",
       "      <th>ex_showroom_price</th>\n",
       "      <td>0.918583</td>\n",
       "      <td>-0.122011</td>\n",
       "      <td>1.000000</td>\n",
       "      <td>-0.126378</td>\n",
       "    </tr>\n",
       "    <tr>\n",
       "      <th>age</th>\n",
       "      <td>-0.402188</td>\n",
       "      <td>0.288675</td>\n",
       "      <td>-0.126378</td>\n",
       "      <td>1.000000</td>\n",
       "    </tr>\n",
       "  </tbody>\n",
       "</table>\n",
       "</div>"
      ],
      "text/plain": [
       "                   selling_price  km_driven  ex_showroom_price       age\n",
       "selling_price           1.000000  -0.212937           0.918583 -0.402188\n",
       "km_driven              -0.212937   1.000000          -0.122011  0.288675\n",
       "ex_showroom_price       0.918583  -0.122011           1.000000 -0.126378\n",
       "age                    -0.402188   0.288675          -0.126378  1.000000"
      ]
     },
     "execution_count": 8,
     "metadata": {},
     "output_type": "execute_result"
    }
   ],
   "source": [
    "bikedata_numerical_variables.corr()"
   ]
  },
  {
   "cell_type": "markdown",
   "id": "4ce6b188-7ce0-49d7-895b-1bc315a4596c",
   "metadata": {},
   "source": [
    "Next, we subset the bikedata to see the \"selling_price\" and \"owner\" columns only using the `.iloc[]` method and indices."
   ]
  },
  {
   "cell_type": "code",
   "execution_count": 9,
   "id": "f7810e44-3570-46a9-b148-b355ea6c0602",
   "metadata": {},
   "outputs": [
    {
     "data": {
      "text/html": [
       "<div>\n",
       "<style scoped>\n",
       "    .dataframe tbody tr th:only-of-type {\n",
       "        vertical-align: middle;\n",
       "    }\n",
       "\n",
       "    .dataframe tbody tr th {\n",
       "        vertical-align: top;\n",
       "    }\n",
       "\n",
       "    .dataframe thead th {\n",
       "        text-align: right;\n",
       "    }\n",
       "</style>\n",
       "<table border=\"1\" class=\"dataframe\">\n",
       "  <thead>\n",
       "    <tr style=\"text-align: right;\">\n",
       "      <th></th>\n",
       "      <th>selling_price</th>\n",
       "      <th>owner</th>\n",
       "    </tr>\n",
       "  </thead>\n",
       "  <tbody>\n",
       "    <tr>\n",
       "      <th>0</th>\n",
       "      <td>175000</td>\n",
       "      <td>1st owner</td>\n",
       "    </tr>\n",
       "    <tr>\n",
       "      <th>1</th>\n",
       "      <td>45000</td>\n",
       "      <td>1st owner</td>\n",
       "    </tr>\n",
       "    <tr>\n",
       "      <th>2</th>\n",
       "      <td>150000</td>\n",
       "      <td>1st owner</td>\n",
       "    </tr>\n",
       "    <tr>\n",
       "      <th>3</th>\n",
       "      <td>65000</td>\n",
       "      <td>1st owner</td>\n",
       "    </tr>\n",
       "    <tr>\n",
       "      <th>4</th>\n",
       "      <td>20000</td>\n",
       "      <td>2nd owner</td>\n",
       "    </tr>\n",
       "  </tbody>\n",
       "</table>\n",
       "</div>"
      ],
      "text/plain": [
       "   selling_price      owner\n",
       "0         175000  1st owner\n",
       "1          45000  1st owner\n",
       "2         150000  1st owner\n",
       "3          65000  1st owner\n",
       "4          20000  2nd owner"
      ]
     },
     "execution_count": 9,
     "metadata": {},
     "output_type": "execute_result"
    }
   ],
   "source": [
    "selling_price_vs_owner = bikedata.iloc[:,[1, 4]]\n",
    "# See the first few rows\n",
    "selling_price_vs_owner.head()"
   ]
  },
  {
   "cell_type": "markdown",
   "id": "267d5b18-9cc5-4e38-9bb5-7e5cfa5a727c",
   "metadata": {},
   "source": [
    "We created a statistical summary table of selling_price grouped by how many owners the bikes have had.  The majority of the bikes were sold by their 1st owners. There are 3 bikes sold by their 4th owners with a higher mean selling price. Perhaps those three bikes were collector bikes which were purchased by their “fans” when their prices were more affordable for them, but that theory would require more research."
   ]
  },
  {
   "cell_type": "code",
   "execution_count": 10,
   "id": "a3841002-6260-40ed-af40-42eae61c9acb",
   "metadata": {},
   "outputs": [
    {
     "data": {
      "text/html": [
       "<div>\n",
       "<style scoped>\n",
       "    .dataframe tbody tr th:only-of-type {\n",
       "        vertical-align: middle;\n",
       "    }\n",
       "\n",
       "    .dataframe tbody tr th {\n",
       "        vertical-align: top;\n",
       "    }\n",
       "\n",
       "    .dataframe thead tr th {\n",
       "        text-align: left;\n",
       "    }\n",
       "\n",
       "    .dataframe thead tr:last-of-type th {\n",
       "        text-align: right;\n",
       "    }\n",
       "</style>\n",
       "<table border=\"1\" class=\"dataframe\">\n",
       "  <thead>\n",
       "    <tr>\n",
       "      <th></th>\n",
       "      <th colspan=\"8\" halign=\"left\">selling_price</th>\n",
       "    </tr>\n",
       "    <tr>\n",
       "      <th></th>\n",
       "      <th>count</th>\n",
       "      <th>mean</th>\n",
       "      <th>std</th>\n",
       "      <th>min</th>\n",
       "      <th>25%</th>\n",
       "      <th>50%</th>\n",
       "      <th>75%</th>\n",
       "      <th>max</th>\n",
       "    </tr>\n",
       "    <tr>\n",
       "      <th>owner</th>\n",
       "      <th></th>\n",
       "      <th></th>\n",
       "      <th></th>\n",
       "      <th></th>\n",
       "      <th></th>\n",
       "      <th></th>\n",
       "      <th></th>\n",
       "      <th></th>\n",
       "    </tr>\n",
       "  </thead>\n",
       "  <tbody>\n",
       "    <tr>\n",
       "      <th>1st owner</th>\n",
       "      <td>924.0</td>\n",
       "      <td>60022.813853</td>\n",
       "      <td>51542.569711</td>\n",
       "      <td>5000.0</td>\n",
       "      <td>30000.0</td>\n",
       "      <td>45000.0</td>\n",
       "      <td>74250.0</td>\n",
       "      <td>760000.0</td>\n",
       "    </tr>\n",
       "    <tr>\n",
       "      <th>2nd owner</th>\n",
       "      <td>123.0</td>\n",
       "      <td>55666.658537</td>\n",
       "      <td>81671.923395</td>\n",
       "      <td>6000.0</td>\n",
       "      <td>25000.0</td>\n",
       "      <td>32000.0</td>\n",
       "      <td>57500.0</td>\n",
       "      <td>750000.0</td>\n",
       "    </tr>\n",
       "    <tr>\n",
       "      <th>3rd owner</th>\n",
       "      <td>11.0</td>\n",
       "      <td>55727.272727</td>\n",
       "      <td>38385.129697</td>\n",
       "      <td>20000.0</td>\n",
       "      <td>27500.0</td>\n",
       "      <td>45000.0</td>\n",
       "      <td>67500.0</td>\n",
       "      <td>150000.0</td>\n",
       "    </tr>\n",
       "    <tr>\n",
       "      <th>4th owner</th>\n",
       "      <td>3.0</td>\n",
       "      <td>118333.333333</td>\n",
       "      <td>183325.757419</td>\n",
       "      <td>10000.0</td>\n",
       "      <td>12500.0</td>\n",
       "      <td>15000.0</td>\n",
       "      <td>172500.0</td>\n",
       "      <td>330000.0</td>\n",
       "    </tr>\n",
       "  </tbody>\n",
       "</table>\n",
       "</div>"
      ],
      "text/plain": [
       "          selling_price                                                  \\\n",
       "                  count           mean            std      min      25%   \n",
       "owner                                                                     \n",
       "1st owner         924.0   60022.813853   51542.569711   5000.0  30000.0   \n",
       "2nd owner         123.0   55666.658537   81671.923395   6000.0  25000.0   \n",
       "3rd owner          11.0   55727.272727   38385.129697  20000.0  27500.0   \n",
       "4th owner           3.0  118333.333333  183325.757419  10000.0  12500.0   \n",
       "\n",
       "                                        \n",
       "               50%       75%       max  \n",
       "owner                                   \n",
       "1st owner  45000.0   74250.0  760000.0  \n",
       "2nd owner  32000.0   57500.0  750000.0  \n",
       "3rd owner  45000.0   67500.0  150000.0  \n",
       "4th owner  15000.0  172500.0  330000.0  "
      ]
     },
     "execution_count": 10,
     "metadata": {},
     "output_type": "execute_result"
    }
   ],
   "source": [
    "# Let's see the statistical summary of the selling_price grouped by the owner\n",
    "selling_price_vs_owner.groupby(\"owner\").describe()"
   ]
  },
  {
   "cell_type": "markdown",
   "id": "901329c0-ff6f-4be1-89de-b8af3d295b2e",
   "metadata": {},
   "source": [
    "Next we created a two-way contingency table for the \"seller_type\" and \"owner\" variables using the `pandas.crosstab()` function.  We see that the seller_type is overwhelmingly individuals with only 6 sales from dealers.  Of the sales from individuals, most were 1st owners by a large amount."
   ]
  },
  {
   "cell_type": "code",
   "execution_count": 11,
   "id": "2fa8d07e-30fd-4868-a714-db9c6e268f18",
   "metadata": {},
   "outputs": [
    {
     "data": {
      "text/html": [
       "<div>\n",
       "<style scoped>\n",
       "    .dataframe tbody tr th:only-of-type {\n",
       "        vertical-align: middle;\n",
       "    }\n",
       "\n",
       "    .dataframe tbody tr th {\n",
       "        vertical-align: top;\n",
       "    }\n",
       "\n",
       "    .dataframe thead th {\n",
       "        text-align: right;\n",
       "    }\n",
       "</style>\n",
       "<table border=\"1\" class=\"dataframe\">\n",
       "  <thead>\n",
       "    <tr style=\"text-align: right;\">\n",
       "      <th>owner</th>\n",
       "      <th>1st owner</th>\n",
       "      <th>2nd owner</th>\n",
       "      <th>3rd owner</th>\n",
       "      <th>4th owner</th>\n",
       "    </tr>\n",
       "    <tr>\n",
       "      <th>seller_type</th>\n",
       "      <th></th>\n",
       "      <th></th>\n",
       "      <th></th>\n",
       "      <th></th>\n",
       "    </tr>\n",
       "  </thead>\n",
       "  <tbody>\n",
       "    <tr>\n",
       "      <th>Dealer</th>\n",
       "      <td>4</td>\n",
       "      <td>2</td>\n",
       "      <td>0</td>\n",
       "      <td>0</td>\n",
       "    </tr>\n",
       "    <tr>\n",
       "      <th>Individual</th>\n",
       "      <td>920</td>\n",
       "      <td>121</td>\n",
       "      <td>11</td>\n",
       "      <td>3</td>\n",
       "    </tr>\n",
       "  </tbody>\n",
       "</table>\n",
       "</div>"
      ],
      "text/plain": [
       "owner        1st owner  2nd owner  3rd owner  4th owner\n",
       "seller_type                                            \n",
       "Dealer               4          2          0          0\n",
       "Individual         920        121         11          3"
      ]
     },
     "execution_count": 11,
     "metadata": {},
     "output_type": "execute_result"
    }
   ],
   "source": [
    "two_way_table_seller_type_owner = pd.crosstab(bikedata.seller_type,bikedata.owner)\n",
    "# See the table now\n",
    "two_way_table_seller_type_owner"
   ]
  },
  {
   "cell_type": "markdown",
   "id": "c9a23301-12b8-46df-b1ec-c6d8934c8722",
   "metadata": {},
   "source": [
    "We created a side-by-side bar graph of our two-way contingency table of seller_type by owner using the `plot.bar()` method from pandas."
   ]
  },
  {
   "cell_type": "code",
   "execution_count": 12,
   "id": "9a2639c5-4f0f-4b6a-bd41-889e11f6dbbb",
   "metadata": {},
   "outputs": [
    {
     "data": {
      "image/png": "[encoded data removed]",
      "text/plain": [
       "<Figure size 432x288 with 1 Axes>"
      ]
     },
     "metadata": {
      "needs_background": "light"
     },
     "output_type": "display_data"
    }
   ],
   "source": [
    "two_way_table_seller_type_owner.plot.bar()\n",
    "# Create labels and title for the plot, also make the x tick labels horizontal\n",
    "plt.xticks(rotation = 0)\n",
    "\n",
    "plt.xlabel(\"seller type\")\n",
    "\n",
    "plt.ylabel(\"Number of owners\")\n",
    "\n",
    "plt.title(\"Side by side bar graph for owners vs seller type\")\n",
    "\n",
    "plt.show()\n",
    "\n",
    "plt.close()"
   ]
  },
  {
   "cell_type": "markdown",
   "id": "76ae4098-f76c-4b51-be40-a2a8653bd70b",
   "metadata": {},
   "source": [
    "We wanted to categorize the bikes according to their ages using the `.cut()` from pandas.  We binned bikes into five categories and labeled them."
   ]
  },
  {
   "cell_type": "code",
   "execution_count": 13,
   "id": "9eacf2db-342a-41c1-b676-849d58f0a7da",
   "metadata": {},
   "outputs": [
    {
     "data": {
      "text/plain": [
       "0              new\n",
       "1       almost new\n",
       "2       almost new\n",
       "3         moderate\n",
       "4              old\n",
       "           ...    \n",
       "1056       too old\n",
       "1057           old\n",
       "1058           old\n",
       "1059       too old\n",
       "1060       too old\n",
       "Name: age, Length: 1061, dtype: category\n",
       "Categories (5, object): ['new' < 'almost new' < 'moderate' < 'old' < 'too old']"
      ]
     },
     "execution_count": 13,
     "metadata": {},
     "output_type": "execute_result"
    }
   ],
   "source": [
    "# Break the age variable into \"new\", \"almost new\", \"moderate\", \"old\", and \"too old\"\n",
    "age_cut = pd.cut(bikedata.age, bins = [0, 1, 3, 5, 9,32], \n",
    "                 labels = [\"new\", \"almost new\", \"moderate\", \"old\", \"too old\"] )\n",
    "# Check to see that it worked\n",
    "age_cut"
   ]
  },
  {
   "cell_type": "markdown",
   "id": "54416a36-dde1-41a6-8113-9c47001900e6",
   "metadata": {},
   "source": [
    "We created a one-way contingency table for the age categories with the `.value_counts()` method.  We see that there are fewer new bikes than the other categories.  The other categories have 200-300 each."
   ]
  },
  {
   "cell_type": "code",
   "execution_count": 14,
   "id": "0bc6030e-8b59-433e-9f0f-b3feff91213e",
   "metadata": {},
   "outputs": [
    {
     "data": {
      "text/plain": [
       "old           295\n",
       "almost new    264\n",
       "moderate      207\n",
       "too old       206\n",
       "new            86\n",
       "Name: age, dtype: int64"
      ]
     },
     "execution_count": 14,
     "metadata": {},
     "output_type": "execute_result"
    }
   ],
   "source": [
    "age_cut.value_counts()"
   ]
  },
  {
   "cell_type": "markdown",
   "id": "f39b7474-541c-4f0f-8cb3-417884e72942",
   "metadata": {},
   "source": [
    "Then we created a two-way contingency table for owner and age categories using the `.crosstab()` method from pandas.  There are many more 1st owner bikes for each age category, but there are more 2nd owner bikes for the \"old\" and \"too old\" categories."
   ]
  },
  {
   "cell_type": "code",
   "execution_count": 15,
   "id": "7e55bbb1-e14f-4dc4-bb7f-59d358aac1e7",
   "metadata": {},
   "outputs": [
    {
     "data": {
      "text/html": [
       "<div>\n",
       "<style scoped>\n",
       "    .dataframe tbody tr th:only-of-type {\n",
       "        vertical-align: middle;\n",
       "    }\n",
       "\n",
       "    .dataframe tbody tr th {\n",
       "        vertical-align: top;\n",
       "    }\n",
       "\n",
       "    .dataframe thead th {\n",
       "        text-align: right;\n",
       "    }\n",
       "</style>\n",
       "<table border=\"1\" class=\"dataframe\">\n",
       "  <thead>\n",
       "    <tr style=\"text-align: right;\">\n",
       "      <th>age</th>\n",
       "      <th>new</th>\n",
       "      <th>almost new</th>\n",
       "      <th>moderate</th>\n",
       "      <th>old</th>\n",
       "      <th>too old</th>\n",
       "    </tr>\n",
       "    <tr>\n",
       "      <th>owner</th>\n",
       "      <th></th>\n",
       "      <th></th>\n",
       "      <th></th>\n",
       "      <th></th>\n",
       "      <th></th>\n",
       "    </tr>\n",
       "  </thead>\n",
       "  <tbody>\n",
       "    <tr>\n",
       "      <th>1st owner</th>\n",
       "      <td>85</td>\n",
       "      <td>250</td>\n",
       "      <td>178</td>\n",
       "      <td>247</td>\n",
       "      <td>161</td>\n",
       "    </tr>\n",
       "    <tr>\n",
       "      <th>2nd owner</th>\n",
       "      <td>1</td>\n",
       "      <td>13</td>\n",
       "      <td>28</td>\n",
       "      <td>44</td>\n",
       "      <td>37</td>\n",
       "    </tr>\n",
       "    <tr>\n",
       "      <th>3rd owner</th>\n",
       "      <td>0</td>\n",
       "      <td>1</td>\n",
       "      <td>1</td>\n",
       "      <td>3</td>\n",
       "      <td>6</td>\n",
       "    </tr>\n",
       "    <tr>\n",
       "      <th>4th owner</th>\n",
       "      <td>0</td>\n",
       "      <td>0</td>\n",
       "      <td>0</td>\n",
       "      <td>1</td>\n",
       "      <td>2</td>\n",
       "    </tr>\n",
       "  </tbody>\n",
       "</table>\n",
       "</div>"
      ],
      "text/plain": [
       "age        new  almost new  moderate  old  too old\n",
       "owner                                             \n",
       "1st owner   85         250       178  247      161\n",
       "2nd owner    1          13        28   44       37\n",
       "3rd owner    0           1         1    3        6\n",
       "4th owner    0           0         0    1        2"
      ]
     },
     "execution_count": 15,
     "metadata": {},
     "output_type": "execute_result"
    }
   ],
   "source": [
    "owner_age_cut = pd.crosstab(bikedata.owner, age_cut)\n",
    "\n",
    "owner_age_cut"
   ]
  },
  {
   "cell_type": "markdown",
   "id": "d225fdba-1d5b-43d4-a7c7-5c2d5d893e37",
   "metadata": {},
   "source": [
    "Lastly, we created a histogram showing the number of owners and their bikes' age categories using the `.hist()` method from pandas.  It seems that most of the first owners sold their bikes when their bikes are \"almost new\" or when their bikes are \"old\"."
   ]
  },
  {
   "cell_type": "code",
   "execution_count": 16,
   "id": "bf585074-7bf1-4bf3-8bf6-ab87e5189afe",
   "metadata": {},
   "outputs": [
    {
     "data": {
      "image/png": "[encoded data removed]",
      "text/plain": [
       "<Figure size 432x288 with 6 Axes>"
      ]
     },
     "metadata": {
      "needs_background": "light"
     },
     "output_type": "display_data"
    }
   ],
   "source": [
    "# We used bins = 5\n",
    "bikedata.owner.hist(bins = 5, by = age_cut)\n",
    "\n",
    "# Create title and labels\n",
    "plt.title(\"Owner Type and Bike's Age Class\")\n",
    "\n",
    "plt.xlabel(\"bike age class\")\n",
    "\n",
    "plt.ylabel(\"owner numbers\")\n",
    "\n",
    "plt.show()\n",
    "\n",
    "plt.close()"
   ]
  },
  {
   "cell_type": "markdown",
   "id": "a2d969a6-9331-43a3-9eb3-019ddc0af118",
   "metadata": {},
   "source": [
    "We created another histogram showing selling_price vs owner.  Majority of the bikes were sold by their 1st owners, then by their 2nd owners in the same price interval up to (and a little greater than) 200,000. "
   ]
  },
  {
   "cell_type": "code",
   "execution_count": 17,
   "id": "eaa5eec8-5522-49f4-ab54-c8adf36296d7",
   "metadata": {},
   "outputs": [
    {
     "data": {
      "image/png": "[encoded data removed]",
      "text/plain": [
       "<Figure size 432x288 with 4 Axes>"
      ]
     },
     "metadata": {
      "needs_background": "light"
     },
     "output_type": "display_data"
    }
   ],
   "source": [
    "# Here we use bins = 10\n",
    "bikedata.selling_price.hist(bins = 10, by = bikedata.owner)\n",
    "# Create labels and title\n",
    "plt.xticks(rotation = 0)\n",
    "plt.xlabel(\"Selling Price\")\n",
    "plt.ylabel(\"Number of Bikes\")\n",
    "plt.show()\n",
    "plt.close()"
   ]
  },
  {
   "cell_type": "markdown",
   "id": "d46f775f-4835-4ef9-b6ad-5f22cf23689d",
   "metadata": {},
   "source": [
    "Our last histogram shows the selling price vs seller_type.  Almost all bikes were sold individually. But the three bikes out of the six that were sold by dealers were sold at higher prices than the ones sold individually.  Most of the individual bikes were sold at less than 40,000 but three dealer bikes were sold at higher prices.  Perhaps, sellers trust dealers to not take risks if they have an expensive/well-known brand of bike."
   ]
  },
  {
   "cell_type": "code",
   "execution_count": 18,
   "id": "b4bddaa5-3392-4b18-a3ba-62a165f2355f",
   "metadata": {},
   "outputs": [
    {
     "data": {
      "image/png": "[encoded data removed]",
      "text/plain": [
       "<Figure size 432x288 with 2 Axes>"
      ]
     },
     "metadata": {
      "needs_background": "light"
     },
     "output_type": "display_data"
    }
   ],
   "source": [
    "# Here we used bins = 10\n",
    "bikedata.selling_price.hist(bins = 10, by = bikedata.seller_type)\n",
    "# Create title and labels\n",
    "plt.xticks(rotation = 0)\n",
    "plt.xlabel(\"Selling Price\")\n",
    "plt.ylabel(\"Number of Bikes\")\n",
    "plt.show()\n",
    "plt.close()"
   ]
  },
  {
   "cell_type": "markdown",
   "id": "4e707417-8fbc-483c-9722-01736cbbfc2b",
   "metadata": {},
   "source": [
    "Lastly, we wanted to look at the one-way contingency tables for bike names, using the `.value_counts()` method to see the top 10 sellers."
   ]
  },
  {
   "cell_type": "code",
   "execution_count": 19,
   "id": "0cae18d6-634e-4b65-bc57-72b38e4b9468",
   "metadata": {},
   "outputs": [
    {
     "data": {
      "text/plain": [
       "Bajaj Pulsar 150                 41\n",
       "Royal Enfield Classic 350        27\n",
       "Honda Activa [2000-2015]         23\n",
       "Honda CB Hornet 160R             22\n",
       "Bajaj Pulsar 180                 20\n",
       "Royal Enfield Thunderbird 350    19\n",
       "Hero Honda Splendor Plus         17\n",
       "Bajaj Discover 125               16\n",
       "Yamaha FZ S V 2.0                16\n",
       "Honda Activa 3G                  15\n",
       "Name: name, dtype: int64"
      ]
     },
     "execution_count": 19,
     "metadata": {},
     "output_type": "execute_result"
    }
   ],
   "source": [
    "# Our one-way table below shows the names of the bikes which were sold the most.\n",
    "best_seller_bike_names = bikedata[\"name\"].value_counts().head(10)\n",
    "best_seller_bike_names"
   ]
  },
  {
   "cell_type": "markdown",
   "id": "9a734cc6-9c1d-47d6-9865-fac5dc281db8",
   "metadata": {},
   "source": [
    "## 2. Prediction of Selling Price Using Algorithms\n",
    "### 2.1 Grid Search Algorithm\n",
    "#### 2.1.1 Grid Search With Just the Selling Price Variable"
   ]
  },
  {
   "cell_type": "markdown",
   "id": "475f5a11-a3ff-4cee-aed7-6ecc11f3f1b5",
   "metadata": {},
   "source": [
    "We want to search a large amount of values to find the one that has the lowest error when predicting selling price.  We start by making our grid of values, by taking each integer from the first and third quartiles of selling_price, 28,000 and 70,000 respectively.  We expect the best prediction to be somewhere in the middle 50% of the data."
   ]
  },
  {
   "cell_type": "code",
   "execution_count": 20,
   "id": "cb03250d-5083-43c6-93c4-4d14ea78a1b5",
   "metadata": {},
   "outputs": [],
   "source": [
    "# Create Grid of c values. All values between the Q1 of selling price and Q3, \n",
    "# by intervals of 1. 28000 through 70000.\n",
    "cgrid = [x for x in range(int(bikedata.selling_price.quantile(q = 0.25)),\n",
    "                          int(bikedata.selling_price.quantile(q = 0.75)))]"
   ]
  },
  {
   "cell_type": "markdown",
   "id": "015853fb-61aa-46f1-9ca1-72079d69f2e0",
   "metadata": {},
   "source": [
    "We need to create a loss function using the selling_price variable and a prediction."
   ]
  },
  {
   "cell_type": "code",
   "execution_count": 21,
   "id": "46bfaa10-5ce6-481e-bca4-735fbf34ec2d",
   "metadata": {},
   "outputs": [],
   "source": [
    "def sq_error_loss(y, c):\n",
    "    loss = (y-c)**2\n",
    "    return(loss)"
   ]
  },
  {
   "cell_type": "markdown",
   "id": "4101fe27-8684-4093-8543-d5cdf70022e3",
   "metadata": {},
   "source": [
    "We use that loss function to calculate the Root Mean Square Error (RMSE) to see the average error of our prediction."
   ]
  },
  {
   "cell_type": "code",
   "execution_count": 22,
   "id": "4f7b5681-a6c1-4731-99b9-91bb3d9a5f58",
   "metadata": {},
   "outputs": [],
   "source": [
    "import numpy as np\n",
    "def RMSE(y, c):\n",
    "    rmse = np.sqrt(np.mean(sq_error_loss(y, c)))\n",
    "    return(rmse)"
   ]
  },
  {
   "cell_type": "markdown",
   "id": "4d941441-b31b-410e-9d9a-b8c66d6dc42f",
   "metadata": {},
   "source": [
    "Next, we need to define a function for our grid search algorithm.  We will loop through each value in our grid and calculate its RMSE.  We will then find the prediction that has the lowest RMSE and say this is our optimal value."
   ]
  },
  {
   "cell_type": "code",
   "execution_count": 23,
   "id": "ba06e4cd-f4c8-4737-ad6e-f1020020826b",
   "metadata": {},
   "outputs": [],
   "source": [
    "# Create grid search algorithm that uses just the selling price.  \n",
    "# Uses arguments y for variable to compare c to, and cgrid for grid of c values \n",
    "# to loop through.\n",
    "def grid_search(y, cvals):\n",
    "    # Create an empty list to store the RMSE values for each c value in.\n",
    "    rmses = []\n",
    "    # Loop through each value of c in the cvals.\n",
    "    for i in cvals:\n",
    "        # Append to the rmses list the computed value of RMSE for each \n",
    "        # corresponding c value\n",
    "        rmses.append(RMSE(y, i))\n",
    "    # Create a data frame with the values of c and their corresponding RMSEs \n",
    "    # zipped together\n",
    "    df = pd.DataFrame(zip(cvals, rmses), columns = [\"c\", \"rmse\"])\n",
    "    # Find the minimum value of RMSE in the df data frame\n",
    "    minrmse = min(df.rmse)\n",
    "    # Subset the data frame to contain only the rows where the minimum RMSE is, \n",
    "    # this gives the optimal value of c and its corresponding RMSE.\n",
    "    optimalc = df[df.rmse == minrmse]\n",
    "    # Return the row where the minimum RMSE is\n",
    "    return(optimalc)"
   ]
  },
  {
   "cell_type": "markdown",
   "id": "a424b56f-ae30-484a-8494-054511781e50",
   "metadata": {},
   "source": [
    "Here we are testing the algorithm on the selling price variable.  The optimal prediction value is $59,638 with an RMSE of 56,278."
   ]
  },
  {
   "cell_type": "code",
   "execution_count": 24,
   "id": "8f72581d-2251-4168-9c39-4909376cb244",
   "metadata": {},
   "outputs": [
    {
     "data": {
      "text/html": [
       "<div>\n",
       "<style scoped>\n",
       "    .dataframe tbody tr th:only-of-type {\n",
       "        vertical-align: middle;\n",
       "    }\n",
       "\n",
       "    .dataframe tbody tr th {\n",
       "        vertical-align: top;\n",
       "    }\n",
       "\n",
       "    .dataframe thead th {\n",
       "        text-align: right;\n",
       "    }\n",
       "</style>\n",
       "<table border=\"1\" class=\"dataframe\">\n",
       "  <thead>\n",
       "    <tr style=\"text-align: right;\">\n",
       "      <th></th>\n",
       "      <th>c</th>\n",
       "      <th>rmse</th>\n",
       "    </tr>\n",
       "  </thead>\n",
       "  <tbody>\n",
       "    <tr>\n",
       "      <th>31638</th>\n",
       "      <td>59638</td>\n",
       "      <td>56277.752122</td>\n",
       "    </tr>\n",
       "  </tbody>\n",
       "</table>\n",
       "</div>"
      ],
      "text/plain": [
       "           c          rmse\n",
       "31638  59638  56277.752122"
      ]
     },
     "execution_count": 24,
     "metadata": {},
     "output_type": "execute_result"
    }
   ],
   "source": [
    "grid_search(y = bikedata.selling_price, cvals = cgrid)"
   ]
  },
  {
   "cell_type": "markdown",
   "id": "1ea0120f-cf2e-453f-bc0b-1b145b98e8f3",
   "metadata": {},
   "source": [
    "We also need to test the algorithm on the km driven variable to make sure it generalizes. This returns an optimal prediction value of 34,360 km."
   ]
  },
  {
   "cell_type": "code",
   "execution_count": 25,
   "id": "1893a03c-7432-4344-93dd-439fcfdacc93",
   "metadata": {},
   "outputs": [
    {
     "data": {
      "text/html": [
       "<div>\n",
       "<style scoped>\n",
       "    .dataframe tbody tr th:only-of-type {\n",
       "        vertical-align: middle;\n",
       "    }\n",
       "\n",
       "    .dataframe tbody tr th {\n",
       "        vertical-align: top;\n",
       "    }\n",
       "\n",
       "    .dataframe thead th {\n",
       "        text-align: right;\n",
       "    }\n",
       "</style>\n",
       "<table border=\"1\" class=\"dataframe\">\n",
       "  <thead>\n",
       "    <tr style=\"text-align: right;\">\n",
       "      <th></th>\n",
       "      <th>c</th>\n",
       "      <th>rmse</th>\n",
       "    </tr>\n",
       "  </thead>\n",
       "  <tbody>\n",
       "    <tr>\n",
       "      <th>6360</th>\n",
       "      <td>34360</td>\n",
       "      <td>51598.819374</td>\n",
       "    </tr>\n",
       "  </tbody>\n",
       "</table>\n",
       "</div>"
      ],
      "text/plain": [
       "          c          rmse\n",
       "6360  34360  51598.819374"
      ]
     },
     "execution_count": 25,
     "metadata": {},
     "output_type": "execute_result"
    }
   ],
   "source": [
    "grid_search(y = bikedata.km_driven, cvals = cgrid)"
   ]
  },
  {
   "cell_type": "markdown",
   "id": "a54136e7-fe00-4e03-9eb1-3819356b8b2a",
   "metadata": {},
   "source": [
    "#### 2.1.2 Grid Search Algorithm with Another Numeric Variable"
   ]
  },
  {
   "cell_type": "markdown",
   "id": "4fa8c7c9-4ccf-4eff-b4f7-268488e12b34",
   "metadata": {},
   "source": [
    "Now we want to incorporate a predictor into our algorithm.  In order to do this, we need to look at a linear combination of values.  In our example, we use the km_driven variable, but this can be done for any numeric variable to predict the selling price.  We start with generating a grid of intercept (b0) values, which is every integer from 60,000 to 70,000, and of slope (b1) values, which is every value from -1 to 1 by step 0.01."
   ]
  },
  {
   "cell_type": "code",
   "execution_count": 26,
   "id": "6c8f3cbc-8c53-44ae-a54b-dbc9ef02cca2",
   "metadata": {},
   "outputs": [],
   "source": [
    "# Create b0s using every integer from 60,000 to 70,000\n",
    "b0s = [x for x in range(60000, 70001)]\n",
    "# Create b1s using every number between -1 and 1 by steps of 0.01\n",
    "b1s = [x/100 for x in range(-100, 101)]\n",
    "# Make a list of pairs of b0s and b1s and call it grid2\n",
    "grid2 = [ (i, j) for i in b0s for j in b1s ]"
   ]
  },
  {
   "cell_type": "markdown",
   "id": "6e53cc93-d2bb-449e-80eb-e6f16fd01ff8",
   "metadata": {},
   "source": [
    "For this new algorithm, we need to loop through every possible combination of b0 and b1 values.  We calculate the prediction c1 from (b0 + b1***x**) for each combination.  Then we calculate the RMSE of that prediction.  Finally, we can find the values of b0 and b1 that give the lowest RMSE.  We also want to be able to predict the selling price of a bike from the amount of kilometers driven on it."
   ]
  },
  {
   "cell_type": "code",
   "execution_count": 27,
   "id": "d9dc04b7-338d-4b6e-8d52-38af339c674b",
   "metadata": {},
   "outputs": [],
   "source": [
    "# Create a new grid search algorithm that uses the combinations of b0 and b1 to \n",
    "# predict selling price. x is numeric predictor, y is real responses\n",
    "# and grid is dataframe of numbers to search through, also add optional numeric \n",
    "# predictor x\n",
    "def new_grid_search(x, y, grid, predictor = False):\n",
    "    # Initialize the rmses list\n",
    "    rmses = []\n",
    "    results = []\n",
    "    # Start looping through each pair of combinations of the columns of the grid.\n",
    "    for i, j in grid:\n",
    "        # For each combinations, use the linear combination of i + jx to find c, \n",
    "        # which we then find the RMSE of, append each RMSE to the list.\n",
    "        c = i + (j * x)\n",
    "        rmses.append(RMSE(y, c))\n",
    "    # Take our list of RMSEs and zip it with each combination and create a data frame.\n",
    "    df = pd.DataFrame(zip(grid, rmses), columns = [\"b0b1\", \"rmse\"])\n",
    "    # Find the minimum RMSE\n",
    "    minrmse = min(df.rmse)\n",
    "    # Find which index of RMSE corresponds to the minimum, then subset to just that \n",
    "    # observation and call it optimalb0b1\n",
    "    optimalb0b1 = df[df.rmse == minrmse]\n",
    "    # Check if an optional numeric predictor x was given\n",
    "    if predictor != False:\n",
    "        # Grab the optimal b0 value\n",
    "        b0 = optimalb0b1.iloc[:, 0].iloc[0][0]\n",
    "        # Grab the optimal b1 value\n",
    "        b1 = optimalb0b1.iloc[:, 0].iloc[0][1]\n",
    "        # Grab the rmse from the optimal b0 and b1 values\n",
    "        rmse = optimalb0b1.iloc[:, 1].iloc[0]\n",
    "        # Calculate the prediction c from the linear combination of b0 + b1*predictor\n",
    "        c = b0 + (b1*predictor)\n",
    "        # Create a series of the values b0, b1, rmse, and c and call it \"results\"\n",
    "        results = pd.Series([b0, b1, rmse, c], name = \"results\")\n",
    "        # Convert the results to a data frame\n",
    "        resultsdf = pd.DataFrame([results])\n",
    "        # Rename the columns of the data frame to be informative\n",
    "        resultsdf.columns = [\"b0\", \"b1\", \"rmse\", \"prediction\"]\n",
    "        # Return the formatted data frame of results\n",
    "        return(resultsdf)\n",
    "    # If no predictor was given, return just the optimal b0 and b1 and its RMSE\n",
    "    else:\n",
    "        return(optimalb0b1)"
   ]
  },
  {
   "cell_type": "markdown",
   "id": "e2adb55b-eda0-4048-a106-3bbc1d1da811",
   "metadata": {},
   "source": [
    "After running our algorithm, the best combination when using km_driven to predict the selling price is when b0 is 67541 and b1 is -0.23. The RMSE of this prediction is 54987.2."
   ]
  },
  {
   "cell_type": "code",
   "execution_count": 28,
   "id": "8fbf38b5-88b7-48ce-95a1-04b25f2f3402",
   "metadata": {},
   "outputs": [
    {
     "data": {
      "text/html": [
       "<div>\n",
       "<style scoped>\n",
       "    .dataframe tbody tr th:only-of-type {\n",
       "        vertical-align: middle;\n",
       "    }\n",
       "\n",
       "    .dataframe tbody tr th {\n",
       "        vertical-align: top;\n",
       "    }\n",
       "\n",
       "    .dataframe thead th {\n",
       "        text-align: right;\n",
       "    }\n",
       "</style>\n",
       "<table border=\"1\" class=\"dataframe\">\n",
       "  <thead>\n",
       "    <tr style=\"text-align: right;\">\n",
       "      <th></th>\n",
       "      <th>b0b1</th>\n",
       "      <th>rmse</th>\n",
       "    </tr>\n",
       "  </thead>\n",
       "  <tbody>\n",
       "    <tr>\n",
       "      <th>1515818</th>\n",
       "      <td>(67541, -0.23)</td>\n",
       "      <td>54987.199961</td>\n",
       "    </tr>\n",
       "  </tbody>\n",
       "</table>\n",
       "</div>"
      ],
      "text/plain": [
       "                   b0b1          rmse\n",
       "1515818  (67541, -0.23)  54987.199961"
      ]
     },
     "execution_count": 28,
     "metadata": {},
     "output_type": "execute_result"
    }
   ],
   "source": [
    "new_grid_search(x = bikedata.km_driven, y = bikedata.selling_price, grid = grid2)"
   ]
  },
  {
   "cell_type": "markdown",
   "id": "ad527a79-96bc-429f-a678-56940a613d7a",
   "metadata": {},
   "source": [
    "We can use these b0 and b1 values to predict the selling_price of a bike with 10,000 km driven. This prediction comes out to $65,241.\n"
   ]
  },
  {
   "cell_type": "code",
   "execution_count": 29,
   "id": "6704867e-049c-4c63-9820-61ffb2653fc9",
   "metadata": {},
   "outputs": [
    {
     "data": {
      "text/html": [
       "<div>\n",
       "<style scoped>\n",
       "    .dataframe tbody tr th:only-of-type {\n",
       "        vertical-align: middle;\n",
       "    }\n",
       "\n",
       "    .dataframe tbody tr th {\n",
       "        vertical-align: top;\n",
       "    }\n",
       "\n",
       "    .dataframe thead th {\n",
       "        text-align: right;\n",
       "    }\n",
       "</style>\n",
       "<table border=\"1\" class=\"dataframe\">\n",
       "  <thead>\n",
       "    <tr style=\"text-align: right;\">\n",
       "      <th></th>\n",
       "      <th>b0</th>\n",
       "      <th>b1</th>\n",
       "      <th>rmse</th>\n",
       "      <th>prediction</th>\n",
       "    </tr>\n",
       "  </thead>\n",
       "  <tbody>\n",
       "    <tr>\n",
       "      <th>results</th>\n",
       "      <td>67541.0</td>\n",
       "      <td>-0.23</td>\n",
       "      <td>54987.199961</td>\n",
       "      <td>65241.0</td>\n",
       "    </tr>\n",
       "  </tbody>\n",
       "</table>\n",
       "</div>"
      ],
      "text/plain": [
       "              b0    b1          rmse  prediction\n",
       "results  67541.0 -0.23  54987.199961     65241.0"
      ]
     },
     "execution_count": 29,
     "metadata": {},
     "output_type": "execute_result"
    }
   ],
   "source": [
    "new_grid_search(x = bikedata.km_driven, y = bikedata.selling_price, \n",
    "                grid = grid2, predictor = 10000)"
   ]
  },
  {
   "cell_type": "markdown",
   "id": "c245af30-0b0a-44ed-bce1-f40d86db1cfb",
   "metadata": {},
   "source": [
    "Next we can predict the selling_price of a bike with 25,000 km driven. This prediction comes out to $61,791."
   ]
  },
  {
   "cell_type": "code",
   "execution_count": 30,
   "id": "dde93cc9-fdab-4314-b727-7e20d664fa53",
   "metadata": {},
   "outputs": [
    {
     "data": {
      "text/html": [
       "<div>\n",
       "<style scoped>\n",
       "    .dataframe tbody tr th:only-of-type {\n",
       "        vertical-align: middle;\n",
       "    }\n",
       "\n",
       "    .dataframe tbody tr th {\n",
       "        vertical-align: top;\n",
       "    }\n",
       "\n",
       "    .dataframe thead th {\n",
       "        text-align: right;\n",
       "    }\n",
       "</style>\n",
       "<table border=\"1\" class=\"dataframe\">\n",
       "  <thead>\n",
       "    <tr style=\"text-align: right;\">\n",
       "      <th></th>\n",
       "      <th>b0</th>\n",
       "      <th>b1</th>\n",
       "      <th>rmse</th>\n",
       "      <th>prediction</th>\n",
       "    </tr>\n",
       "  </thead>\n",
       "  <tbody>\n",
       "    <tr>\n",
       "      <th>results</th>\n",
       "      <td>67541.0</td>\n",
       "      <td>-0.23</td>\n",
       "      <td>54987.199961</td>\n",
       "      <td>61791.0</td>\n",
       "    </tr>\n",
       "  </tbody>\n",
       "</table>\n",
       "</div>"
      ],
      "text/plain": [
       "              b0    b1          rmse  prediction\n",
       "results  67541.0 -0.23  54987.199961     61791.0"
      ]
     },
     "execution_count": 30,
     "metadata": {},
     "output_type": "execute_result"
    }
   ],
   "source": [
    "new_grid_search(x = bikedata.km_driven, y = bikedata.selling_price,\n",
    "                grid = grid2, predictor = 25000)"
   ]
  },
  {
   "cell_type": "markdown",
   "id": "944c1965-ef14-4f7f-a206-405188a06026",
   "metadata": {},
   "source": [
    "Lastly we can predict the selling_price of a bike with 35,000 km driven. This prediction comes out to $59,491. It is encouraging to see that the predicted price goes down the more miles there are on the bike as this matches intuition."
   ]
  },
  {
   "cell_type": "code",
   "execution_count": 31,
   "id": "3b8ae592-d4d4-4c6a-b93b-a1f3a005f0bc",
   "metadata": {},
   "outputs": [
    {
     "data": {
      "text/html": [
       "<div>\n",
       "<style scoped>\n",
       "    .dataframe tbody tr th:only-of-type {\n",
       "        vertical-align: middle;\n",
       "    }\n",
       "\n",
       "    .dataframe tbody tr th {\n",
       "        vertical-align: top;\n",
       "    }\n",
       "\n",
       "    .dataframe thead th {\n",
       "        text-align: right;\n",
       "    }\n",
       "</style>\n",
       "<table border=\"1\" class=\"dataframe\">\n",
       "  <thead>\n",
       "    <tr style=\"text-align: right;\">\n",
       "      <th></th>\n",
       "      <th>b0</th>\n",
       "      <th>b1</th>\n",
       "      <th>rmse</th>\n",
       "      <th>prediction</th>\n",
       "    </tr>\n",
       "  </thead>\n",
       "  <tbody>\n",
       "    <tr>\n",
       "      <th>results</th>\n",
       "      <td>67541.0</td>\n",
       "      <td>-0.23</td>\n",
       "      <td>54987.199961</td>\n",
       "      <td>59491.0</td>\n",
       "    </tr>\n",
       "  </tbody>\n",
       "</table>\n",
       "</div>"
      ],
      "text/plain": [
       "              b0    b1          rmse  prediction\n",
       "results  67541.0 -0.23  54987.199961     59491.0"
      ]
     },
     "execution_count": 31,
     "metadata": {},
     "output_type": "execute_result"
    }
   ],
   "source": [
    "new_grid_search(x = bikedata.km_driven, y = bikedata.selling_price,\n",
    "                grid = grid2, predictor = 35000)"
   ]
  },
  {
   "cell_type": "markdown",
   "id": "067896b2-09a4-4071-9caf-6536eee0b618",
   "metadata": {},
   "source": [
    "### 2.2 Gradient Descent Algorithm\n",
    "#### 2.2.1 Gradient Descent Algorithm with Just the Selling Price"
   ]
  },
  {
   "cell_type": "markdown",
   "id": "f63c3eb1-70cd-483f-8260-5088b161a632",
   "metadata": {},
   "source": [
    "We use the gradient descent algorithm to approximate the prediction that will minimize the RMSE function.  The idea comes from calculus, where we measure the derivative of RMSE at a given prediction c.  Then we check the sign of our derivative and increase our prediction if the derivative is negative, decrease our prediction if the derivative is positive, repeating our algorithm until our process is as close as possible to zero.  This should yield to value that minimizes our error and therefore is the best prediction value c."
   ]
  },
  {
   "cell_type": "markdown",
   "id": "d924a57c-f3cc-43ff-8e1b-941cbce1529e",
   "metadata": {},
   "source": [
    "We create the same loss function as before, using the data and a prediction c."
   ]
  },
  {
   "cell_type": "code",
   "execution_count": 32,
   "id": "87310106-7d95-4c2d-a470-d2758bacda20",
   "metadata": {},
   "outputs": [],
   "source": [
    "def sq_error_loss(y, c):\n",
    "    loss = (y-c)**2\n",
    "    return(loss)"
   ]
  },
  {
   "cell_type": "markdown",
   "id": "cddf1feb-9cc5-4068-b9c0-5d22b3b1604e",
   "metadata": {},
   "source": [
    "Next we use the loss function to calculate the RMSE of a prediction c."
   ]
  },
  {
   "cell_type": "code",
   "execution_count": 33,
   "id": "e57a6f6f-1e0b-4636-bcb1-af6e2e937f06",
   "metadata": {},
   "outputs": [],
   "source": [
    "import numpy as np\n",
    "def RMSE(y, c):\n",
    "    rmse = np.sqrt(np.mean(sq_error_loss(y, c)))\n",
    "    return(rmse)"
   ]
  },
  {
   "cell_type": "markdown",
   "id": "da71fd3e-94a4-4907-91fe-e14b87c7ee1b",
   "metadata": {},
   "source": [
    "We can then use the `diff_quo()` function to calculate the derivative of RMSE at a prediction c, with a small increment d."
   ]
  },
  {
   "cell_type": "code",
   "execution_count": 34,
   "id": "b4c95293-3340-4bbe-ba85-09998417a7bf",
   "metadata": {},
   "outputs": [],
   "source": [
    "def diff_quo(y, c, d):\n",
    "    dq = (RMSE(y = y, c = c+d) - RMSE(y = y, c = c))/(d)\n",
    "    return(dq)"
   ]
  },
  {
   "cell_type": "markdown",
   "id": "9134a0ce-fb40-4565-842d-1929e4797e7b",
   "metadata": {},
   "source": [
    "Define our gradient descent function below.  We want to calculate the RMSE derivative at a first value of c, then update that value with a step size.  The new c will be the current c minus the product of the derivative and that step size.  Then we check if the distance is above a tolerance that is close to 0.  If it is above the tolerance, we update the current c with the new c value and try again up to a million times, after which the loop will stop even if the condition was not met.  If we get a c value below the tolerance, we update to that c value and stop.  We then return that c value and its RMSE."
   ]
  },
  {
   "cell_type": "code",
   "execution_count": 35,
   "id": "8a5686c3-b76b-4125-9450-53808a20311a",
   "metadata": {},
   "outputs": [],
   "source": [
    "# Gradient descent function should only need the y values and an initial c value\n",
    "def gradient_descent(y, c, d):\n",
    "    # Constant Variables include step_size, num_tol\n",
    "    step_size = 0.5\n",
    "    num_tol = 0.01\n",
    "    # Set first value of c\n",
    "    cur_c = c\n",
    "    # Find first difference quotient\n",
    "    diff_quotient = diff_quo(y = y, c = c, d = d)\n",
    "    # Find first new_c\n",
    "    new_c = cur_c - (diff_quotient * step_size)\n",
    "    # Check if abs(new_c - cur_c) is larger than the tolerance\n",
    "    if abs(new_c - cur_c) >= num_tol:\n",
    "            # Since we exceeded the tolerance, we updated the c value and continue on\n",
    "            cur_c = new_c\n",
    "            # Start a loop that will replace c values up to a million times, \n",
    "            # continue to check like before\n",
    "            for i in range(1000000):\n",
    "                # Calculate difference quotient using new_c, which is now the cur_c\n",
    "                diff_quotient = diff_quo(y = y, c = cur_c, d = d)\n",
    "                # Calculate the next new_c\n",
    "                new_c = cur_c - (diff_quotient * step_size)\n",
    "                # Check again if we are above the tolerance, if so, update the c value \n",
    "                # and run it again\n",
    "                if abs(new_c - cur_c) >= num_tol:\n",
    "                    cur_c = new_c\n",
    "                # If we have found a c that satisfies the tolerance, update to that \n",
    "                # value of c\n",
    "                else:\n",
    "                    cur_c = new_c\n",
    "                    # Find the RMSE of the c that minimizes RMSE\n",
    "                    rmse_c = RMSE(y = y, c = cur_c)\n",
    "                    # Create a series of the c value and its RMSE\n",
    "                    results = pd.Series([cur_c, rmse_c], name = \"results\")\n",
    "                    # Convert the results to a data frame\n",
    "                    resultsdf = pd.DataFrame([results])\n",
    "                    # Rename the columns of the data frame to be informative\n",
    "                    resultsdf.columns = [\"c\", \"rmse\"]\n",
    "                    # Return the formatted data frame of results\n",
    "                    return(resultsdf)\n",
    "    # If first iteration of abs(new_c - cur_c) is smaller than tolerance, update to \n",
    "    # that value of c\n",
    "    else:\n",
    "        cur_c = new_c\n",
    "        # Find the RMSE of the c that minimizes RMSE\n",
    "        rmse_c = RMSE(y = y, c = cur_c)\n",
    "        # Create a series of the c value and its RMSE\n",
    "        results = pd.Series([cur_c, rmse_c], name = \"results\")\n",
    "        # Convert the results to a data frame\n",
    "        resultsdf = pd.DataFrame([results])\n",
    "        # Rename the columns of the data frame to be informative\n",
    "        resultsdf.columns = [\"c\", \"rmse\"]\n",
    "        # Return the formatted data frame of results\n",
    "        return(resultsdf)"
   ]
  },
  {
   "cell_type": "markdown",
   "id": "36d705e1-23b0-4cf2-a0a9-bc016e77644d",
   "metadata": {},
   "source": [
    "Testing our algorithm to find the prediction value c that optimizes the selling price variable, with an initial value of 50000 and a delta of 0.005. This returns a value of c that is $58512.39."
   ]
  },
  {
   "cell_type": "code",
   "execution_count": 36,
   "id": "89092ca3-b29d-4427-b8f4-fa5051b3c61a",
   "metadata": {},
   "outputs": [
    {
     "data": {
      "text/html": [
       "<div>\n",
       "<style scoped>\n",
       "    .dataframe tbody tr th:only-of-type {\n",
       "        vertical-align: middle;\n",
       "    }\n",
       "\n",
       "    .dataframe tbody tr th {\n",
       "        vertical-align: top;\n",
       "    }\n",
       "\n",
       "    .dataframe thead th {\n",
       "        text-align: right;\n",
       "    }\n",
       "</style>\n",
       "<table border=\"1\" class=\"dataframe\">\n",
       "  <thead>\n",
       "    <tr style=\"text-align: right;\">\n",
       "      <th></th>\n",
       "      <th>c</th>\n",
       "      <th>rmse</th>\n",
       "    </tr>\n",
       "  </thead>\n",
       "  <tbody>\n",
       "    <tr>\n",
       "      <th>results</th>\n",
       "      <td>58512.387901</td>\n",
       "      <td>56289.010722</td>\n",
       "    </tr>\n",
       "  </tbody>\n",
       "</table>\n",
       "</div>"
      ],
      "text/plain": [
       "                    c          rmse\n",
       "results  58512.387901  56289.010722"
      ]
     },
     "execution_count": 36,
     "metadata": {},
     "output_type": "execute_result"
    }
   ],
   "source": [
    "gradient_descent(y = bikedata.selling_price, c = 50000, d = 0.005)"
   ]
  },
  {
   "cell_type": "markdown",
   "id": "dff716e9-e51b-40fe-9c4a-31d4a5e0ec69",
   "metadata": {},
   "source": [
    "Next we make sure our algorithm generalizes by optimizing the km driven variable, with an initial guess of 50000 and a delta of 0.005. This returns a value of c that is 35,392 kilometers."
   ]
  },
  {
   "cell_type": "code",
   "execution_count": 37,
   "id": "da0ecf8e-8a56-48d1-b3f6-3acce047a0d5",
   "metadata": {},
   "outputs": [
    {
     "data": {
      "text/html": [
       "<div>\n",
       "<style scoped>\n",
       "    .dataframe tbody tr th:only-of-type {\n",
       "        vertical-align: middle;\n",
       "    }\n",
       "\n",
       "    .dataframe tbody tr th {\n",
       "        vertical-align: top;\n",
       "    }\n",
       "\n",
       "    .dataframe thead th {\n",
       "        text-align: right;\n",
       "    }\n",
       "</style>\n",
       "<table border=\"1\" class=\"dataframe\">\n",
       "  <thead>\n",
       "    <tr style=\"text-align: right;\">\n",
       "      <th></th>\n",
       "      <th>c</th>\n",
       "      <th>rmse</th>\n",
       "    </tr>\n",
       "  </thead>\n",
       "  <tbody>\n",
       "    <tr>\n",
       "      <th>results</th>\n",
       "      <td>35392.000107</td>\n",
       "      <td>51609.141916</td>\n",
       "    </tr>\n",
       "  </tbody>\n",
       "</table>\n",
       "</div>"
      ],
      "text/plain": [
       "                    c          rmse\n",
       "results  35392.000107  51609.141916"
      ]
     },
     "execution_count": 37,
     "metadata": {},
     "output_type": "execute_result"
    }
   ],
   "source": [
    "gradient_descent(y = bikedata.km_driven, c = 50000, d = 0.005)"
   ]
  },
  {
   "cell_type": "markdown",
   "id": "0c176dbc-ba19-4e90-bc52-f89ea88c8085",
   "metadata": {},
   "source": [
    "#### 2.2.2 Gradient Descent Algorithm with Another Numeric Variable"
   ]
  },
  {
   "cell_type": "markdown",
   "id": "a256759b-5dfb-4563-80bc-a38ff8f9c6c0",
   "metadata": {},
   "source": [
    "We use the gradient descent algorithm to approximate the prediction that will minimize the RMSE function when we have a predictor x.  In our example we use km driven for x. We can make a prediction c from a linear combination from our x values.  We calculate the prediction c from an intercept (b0) and slope (b1).  We try to minimize the RMSE function using the derivatives with respect to b0 and b1, separately."
   ]
  },
  {
   "cell_type": "markdown",
   "id": "eaa4e1b3-38b0-4016-9eea-13065734f9a6",
   "metadata": {},
   "source": [
    "We need a new loss function for b0 and b1 using the numerical variables x and y from our data set."
   ]
  },
  {
   "cell_type": "code",
   "execution_count": 38,
   "id": "ba854a6f-e25d-400f-8a7e-117a4ca912a6",
   "metadata": {},
   "outputs": [],
   "source": [
    "def multi_sq_error_loss(x, y, b0, b1):\n",
    "    loss = (y-b0-((b1)*(x)))**2\n",
    "    return(loss)"
   ]
  },
  {
   "cell_type": "markdown",
   "id": "38ec3e6a-d48a-449a-a22d-1b2b6b8913ea",
   "metadata": {},
   "source": [
    "Now we need a new RMSE function, which uses b0, b1, x, and y."
   ]
  },
  {
   "cell_type": "code",
   "execution_count": 39,
   "id": "7e4c7c60-8299-4700-af22-10deeab53ec6",
   "metadata": {},
   "outputs": [],
   "source": [
    "def multi_RMSE(x, y, b0, b1):\n",
    "    rmse = np.sqrt(np.mean(multi_sq_error_loss(x, y, b0, b1)))\n",
    "    return(rmse)"
   ]
  },
  {
   "cell_type": "markdown",
   "id": "71b40c50-66cd-4392-914e-a73e1d01cb65",
   "metadata": {},
   "source": [
    "Next we create a derivative function by calculating the difference quotient of RMSE with respect to b0 using a small increment d0.  We are using x and y as well."
   ]
  },
  {
   "cell_type": "code",
   "execution_count": 40,
   "id": "ba03fc86-4db9-4338-96ae-6e635c2af7b6",
   "metadata": {},
   "outputs": [],
   "source": [
    "def diff_quotient_b0(x, y, b0, b1, d0):\n",
    "    dq0 = (multi_RMSE(x = x, y = y, b0 = b0 + d0, b1 = b1) - multi_RMSE(x = x, y = y, b0 = b0, b1 = b1))/(d0)\n",
    "    return(dq0)"
   ]
  },
  {
   "cell_type": "markdown",
   "id": "d3eb29d3-69aa-4420-b98f-7c34ba706903",
   "metadata": {},
   "source": [
    "Next we create a derivative function by calculating the difference quotient of RMSE with respect to b1 using a small increment d1.  We are using x and y as well."
   ]
  },
  {
   "cell_type": "code",
   "execution_count": 41,
   "id": "907ac175-d56b-414c-bfbf-e9f5f30cb43b",
   "metadata": {},
   "outputs": [],
   "source": [
    "def diff_quotient_b1(x, y, b0, b1, d1):\n",
    "    dq1 = (multi_RMSE(x = x, y = y, b0 = b0, b1 = b1 + d1) - multi_RMSE(x = x, y = y, b0 = b0, b1 = b1))/(d1)\n",
    "    return(dq1)"
   ]
  },
  {
   "cell_type": "markdown",
   "id": "d70471bb-d353-495e-a6f1-31694c67b5c9",
   "metadata": {},
   "source": [
    "Define our gradient descent algorithm that takes in a predictor variable x, numeric variable y, initial values of b0 and b1, and increment value of d0 and d1 for difference quotients diff_quo_b0 and diff_quo_b1.  Also specify an optional argument for predictions.  We set b0 and b1 to be cur_b0 and cur_b1.  Then we evaluate the diff_quo_b0 at (cur_b0, cur_b1) then create a new_b0, which is the cur_b0 minus the product of a step size and diff_quo_b0 (cur_b0, cur_b1).  Then we evaluate the diff_quo_b1 at (new_b0, cur_b1) then create a new_b1, which is the cur_b1 minus the product of a step size and diff_quo_b1 (new_b0, cur_b1).  Check if the Euclidean Distance between (cur_b0, cur_b1) and (new_b0, new_b1) to see if it is below a certain tolerance that is close to 0.  If we are above the tolerance, we update cur_b0 and cur_b1 then repeat the process again up to a million times and stop after that even if the condition wasn't met.  If we are below the tolerance, we update cur_b0 and cur_b1 and return their values and their RMSE.  If a prediction was requested, we can take in a value and use a linear combination with b0 and b1 to find the prediction."
   ]
  },
  {
   "cell_type": "code",
   "execution_count": 42,
   "id": "761cd059-7ca4-42cf-93bf-545460179213",
   "metadata": {},
   "outputs": [],
   "source": [
    "import math\n",
    "# Define the gradient descent algorithm with predictor x, allow for option prediction \n",
    "# at the end based on a predictor\n",
    "def multi_gradient_descent(x, y, b0, b1, d0, d1, predictor = False):\n",
    "    # Constant Variables include step_sizes, num_tol\n",
    "    b0_step_size = 1.0\n",
    "    b1_step_size = 0.000005\n",
    "    num_tol = 0.01\n",
    "    # Set first value of b0 and b1\n",
    "    cur_b0 = b0\n",
    "    cur_b1 = b1\n",
    "    # Find first b0 difference quotient\n",
    "    diff_quo_b0 = diff_quotient_b0(x = x, y = y, b0 = b0, b1 = b1, d0 = d0)\n",
    "    # Find first new_b0\n",
    "    new_b0 = cur_b0 - (diff_quo_b0 * b0_step_size)\n",
    "    # Find first b1 difference quotient\n",
    "    diff_quo_b1 = diff_quotient_b1(x = x, y = y, b0 = new_b0, b1 = b1, d1 = d1)\n",
    "    # Find first new_b1\n",
    "    new_b1 = cur_b1 - (diff_quo_b1 * b1_step_size)\n",
    "    # Check if Euclidean Distance of new b0, b1 and old b0, b1 is larger than the tolerance\n",
    "    if math.dist((new_b0, new_b1), (cur_b0, cur_b1)) >= num_tol:\n",
    "        # Since we exceeded the tolerance, we update the b0 and b1 values and continue on\n",
    "        cur_b0 = new_b0\n",
    "        cur_b1 = new_b1\n",
    "        # Start looping through values of b0 and b1 until we find one that satisfies the tolerance\n",
    "        for i in range(1000000):\n",
    "            # Find next b0 difference quotient\n",
    "            diff_quo_b0 = diff_quotient_b0(x = x, y = y, b0 = cur_b0, b1 = cur_b1, d0 = d0)\n",
    "            # Find next new_b0\n",
    "            new_b0 = cur_b0 - (diff_quo_b0 * b0_step_size)\n",
    "            # Find next b1 difference quotient\n",
    "            diff_quo_b1 = diff_quotient_b1(x = x, y = y, b0 = new_b0, b1 = cur_b1, d1 = d1)\n",
    "            # Find next new_b1\n",
    "            new_b1 = cur_b1 - (diff_quo_b1 * b1_step_size)\n",
    "            # Check if Euclidean Distance of new b0, b1 and old b0, b1 is larger than tolerance\n",
    "            if math.dist((new_b0, new_b1), (cur_b0, cur_b1)) >= num_tol:\n",
    "                # Since we exceeded the tolerance, we update the b0 and b1 values and continue on\n",
    "                cur_b0 = new_b0\n",
    "                cur_b1 = new_b1\n",
    "            # Check if Euclidean Distance of new b0, b1 and old b0, b1 is smaller than tolerance\n",
    "            else:\n",
    "                # Since it is below the tolerance, update b0 and b1\n",
    "                cur_b0 = new_b0\n",
    "                cur_b1 = new_b1\n",
    "                # Check if a prediction was requested then:\n",
    "                if predictor != False:\n",
    "                    # Calculate the prediction c from the linear combination of b0 + b1*predictor\n",
    "                    c = cur_b0 + (cur_b1*predictor)\n",
    "                    # Calculate the rmse of b0 and b1\n",
    "                    rmse = multi_RMSE(x = x, y = y, b0 = cur_b0, b1 = cur_b1)\n",
    "                    # Create a series of the values b0, b1, rmse, and prediction c and call it \"results\"\n",
    "                    results = pd.Series([cur_b0, cur_b1, rmse, c], name = \"results\")\n",
    "                    # Convert the results to a data frame\n",
    "                    resultsdf = pd.DataFrame([results])\n",
    "                    # Rename the columns of the data frame to be informative\n",
    "                    resultsdf.columns = [\"b0\", \"b1\", \"rmse\", \"prediction\"]\n",
    "                    # Return the formatted data frame of results\n",
    "                    return(resultsdf)\n",
    "                # If prediction was not requested then:\n",
    "                else:\n",
    "                    # Calculate the rmse of b0 and b1\n",
    "                    rmse = multi_RMSE(x = x, y = y, b0 = cur_b0, b1 = cur_b1)\n",
    "                    # Create a series of the values b0, b1, rmse and call it \"results\"\n",
    "                    results = pd.Series([cur_b0, cur_b1, rmse], name = \"results\")\n",
    "                    # Convert the results to a data frame\n",
    "                    resultsdf = pd.DataFrame([results])\n",
    "                    # Rename the columns of the data frame to be informative\n",
    "                    resultsdf.columns = [\"b0\", \"b1\", \"rmse\"]\n",
    "                    # Return the formatted data frame of results\n",
    "                    return(resultsdf)\n",
    "    # If Euclidean Distance of new b0, b1 and old b0, b1 is smaller than tolerance, update the value of b0, b1\n",
    "    else:\n",
    "        cur_b0 = new_b0\n",
    "        cur_b1 = new_b1\n",
    "        if predictor != False:\n",
    "            # Calculate the prediction c from the linear combination of b0 + b1*predictor\n",
    "            c = cur_b0 + (cur_b1*predictor)\n",
    "            # Calculate the rmse of b0 and b1\n",
    "            rmse = multi_RMSE(x = x, y = y, b0 = cur_b0, b1 = cur_b1)\n",
    "            # Create a series of the values b0, b1, rmse, and prediction c and call it \"results\"\n",
    "            results = pd.Series([cur_b0, cur_b1, rmse, c], name = \"results\")\n",
    "            # Convert the results to a data frame\n",
    "            resultsdf = pd.DataFrame([results])\n",
    "            # Rename the columns of the data frame to be informative\n",
    "            resultsdf.columns = [\"b0\", \"b1\", \"rmse\", \"prediction\"]\n",
    "            # Return the formatted data frame of results\n",
    "            return(resultsdf)\n",
    "        else:\n",
    "            # Calculate the rmse of b0 and b1\n",
    "            rmse = multi_RMSE(x = x, y = y, b0 = cur_b0, b1 = cur_b1)\n",
    "            # Create a series of the values b0, b1, rmse and call it \"results\"\n",
    "            results = pd.Series([cur_b0, cur_b1, rmse], name = \"results\")\n",
    "            # Convert the results to a data frame\n",
    "            resultsdf = pd.DataFrame([results])\n",
    "            # Rename the columns of the data frame to be informative\n",
    "            resultsdf.columns = [\"b0\", \"b1\", \"rmse\"]\n",
    "            # Return the formatted data frame of results\n",
    "            return(resultsdf)"
   ]
  },
  {
   "cell_type": "markdown",
   "id": "e93583dc-1442-4125-869b-9dc787ddafa8",
   "metadata": {},
   "source": [
    "Testing the algorithm to find the optimal values of b0 and b1 for selling_price as the response and km_driven as our predictor, with deltas of 0.005.  This returns 66948.32 for b0 and -0.229 for b1 with an RMSE of 54,990."
   ]
  },
  {
   "cell_type": "code",
   "execution_count": 43,
   "id": "21cfa6f6-b0c9-4922-90a2-2b4ca647328f",
   "metadata": {},
   "outputs": [
    {
     "data": {
      "text/html": [
       "<div>\n",
       "<style scoped>\n",
       "    .dataframe tbody tr th:only-of-type {\n",
       "        vertical-align: middle;\n",
       "    }\n",
       "\n",
       "    .dataframe tbody tr th {\n",
       "        vertical-align: top;\n",
       "    }\n",
       "\n",
       "    .dataframe thead th {\n",
       "        text-align: right;\n",
       "    }\n",
       "</style>\n",
       "<table border=\"1\" class=\"dataframe\">\n",
       "  <thead>\n",
       "    <tr style=\"text-align: right;\">\n",
       "      <th></th>\n",
       "      <th>b0</th>\n",
       "      <th>b1</th>\n",
       "      <th>rmse</th>\n",
       "    </tr>\n",
       "  </thead>\n",
       "  <tbody>\n",
       "    <tr>\n",
       "      <th>results</th>\n",
       "      <td>66948.322906</td>\n",
       "      <td>-0.228757</td>\n",
       "      <td>54990.121953</td>\n",
       "    </tr>\n",
       "  </tbody>\n",
       "</table>\n",
       "</div>"
      ],
      "text/plain": [
       "                   b0        b1          rmse\n",
       "results  66948.322906 -0.228757  54990.121953"
      ]
     },
     "execution_count": 43,
     "metadata": {},
     "output_type": "execute_result"
    }
   ],
   "source": [
    "multi_gradient_descent(x = bikedata.km_driven, y = bikedata.selling_price, \n",
    "                       b0 = 60000, b1 = 0, d0 = 0.005, d1 = 0.005)"
   ]
  },
  {
   "cell_type": "markdown",
   "id": "22e2cc6f-0143-4d68-8d60-e8df02f430fc",
   "metadata": {},
   "source": [
    "Use our values of b0 and b1 to predict the selling_price of a bike with 10,000 km driven. This comes out to $64,660.75."
   ]
  },
  {
   "cell_type": "code",
   "execution_count": 44,
   "id": "b207f462-ecb8-4fcb-849e-2e4fa50e156e",
   "metadata": {},
   "outputs": [
    {
     "data": {
      "text/html": [
       "<div>\n",
       "<style scoped>\n",
       "    .dataframe tbody tr th:only-of-type {\n",
       "        vertical-align: middle;\n",
       "    }\n",
       "\n",
       "    .dataframe tbody tr th {\n",
       "        vertical-align: top;\n",
       "    }\n",
       "\n",
       "    .dataframe thead th {\n",
       "        text-align: right;\n",
       "    }\n",
       "</style>\n",
       "<table border=\"1\" class=\"dataframe\">\n",
       "  <thead>\n",
       "    <tr style=\"text-align: right;\">\n",
       "      <th></th>\n",
       "      <th>b0</th>\n",
       "      <th>b1</th>\n",
       "      <th>rmse</th>\n",
       "      <th>prediction</th>\n",
       "    </tr>\n",
       "  </thead>\n",
       "  <tbody>\n",
       "    <tr>\n",
       "      <th>results</th>\n",
       "      <td>66948.322906</td>\n",
       "      <td>-0.228757</td>\n",
       "      <td>54990.121953</td>\n",
       "      <td>64660.749445</td>\n",
       "    </tr>\n",
       "  </tbody>\n",
       "</table>\n",
       "</div>"
      ],
      "text/plain": [
       "                   b0        b1          rmse    prediction\n",
       "results  66948.322906 -0.228757  54990.121953  64660.749445"
      ]
     },
     "execution_count": 44,
     "metadata": {},
     "output_type": "execute_result"
    }
   ],
   "source": [
    "multi_gradient_descent(x = bikedata.km_driven, y = bikedata.selling_price,\n",
    "                       b0 = 60000, b1 = 0, d0 = 0.005, d1 = 0.005, predictor = 10000)"
   ]
  },
  {
   "cell_type": "markdown",
   "id": "13a69021-d991-4335-8013-a80138bd94ca",
   "metadata": {},
   "source": [
    "Use our values of b0 and b1 to predict the selling_price of a bike with 25,000 km driven. This comes out to $61,229.39."
   ]
  },
  {
   "cell_type": "code",
   "execution_count": 45,
   "id": "3af60243-c8cf-4d32-9078-6d0a5277321e",
   "metadata": {},
   "outputs": [
    {
     "data": {
      "text/html": [
       "<div>\n",
       "<style scoped>\n",
       "    .dataframe tbody tr th:only-of-type {\n",
       "        vertical-align: middle;\n",
       "    }\n",
       "\n",
       "    .dataframe tbody tr th {\n",
       "        vertical-align: top;\n",
       "    }\n",
       "\n",
       "    .dataframe thead th {\n",
       "        text-align: right;\n",
       "    }\n",
       "</style>\n",
       "<table border=\"1\" class=\"dataframe\">\n",
       "  <thead>\n",
       "    <tr style=\"text-align: right;\">\n",
       "      <th></th>\n",
       "      <th>b0</th>\n",
       "      <th>b1</th>\n",
       "      <th>rmse</th>\n",
       "      <th>prediction</th>\n",
       "    </tr>\n",
       "  </thead>\n",
       "  <tbody>\n",
       "    <tr>\n",
       "      <th>results</th>\n",
       "      <td>66948.322906</td>\n",
       "      <td>-0.228757</td>\n",
       "      <td>54990.121953</td>\n",
       "      <td>61229.389252</td>\n",
       "    </tr>\n",
       "  </tbody>\n",
       "</table>\n",
       "</div>"
      ],
      "text/plain": [
       "                   b0        b1          rmse    prediction\n",
       "results  66948.322906 -0.228757  54990.121953  61229.389252"
      ]
     },
     "execution_count": 45,
     "metadata": {},
     "output_type": "execute_result"
    }
   ],
   "source": [
    "multi_gradient_descent(x = bikedata.km_driven, y = bikedata.selling_price, \n",
    "                       b0 = 60000, b1 = 0, d0 = 0.005, d1 = 0.005, predictor = 25000)"
   ]
  },
  {
   "cell_type": "markdown",
   "id": "37faa192-39e9-4c6b-86e0-cc15fcb5ffd3",
   "metadata": {},
   "source": [
    "Use our values of b0 and b1 to predict the selling_price of a bike with 35,000 km driven. This comes out to $58,941.82."
   ]
  },
  {
   "cell_type": "code",
   "execution_count": 46,
   "id": "f8c0037a-475b-4947-9f27-2dfab34e8280",
   "metadata": {},
   "outputs": [
    {
     "data": {
      "text/html": [
       "<div>\n",
       "<style scoped>\n",
       "    .dataframe tbody tr th:only-of-type {\n",
       "        vertical-align: middle;\n",
       "    }\n",
       "\n",
       "    .dataframe tbody tr th {\n",
       "        vertical-align: top;\n",
       "    }\n",
       "\n",
       "    .dataframe thead th {\n",
       "        text-align: right;\n",
       "    }\n",
       "</style>\n",
       "<table border=\"1\" class=\"dataframe\">\n",
       "  <thead>\n",
       "    <tr style=\"text-align: right;\">\n",
       "      <th></th>\n",
       "      <th>b0</th>\n",
       "      <th>b1</th>\n",
       "      <th>rmse</th>\n",
       "      <th>prediction</th>\n",
       "    </tr>\n",
       "  </thead>\n",
       "  <tbody>\n",
       "    <tr>\n",
       "      <th>results</th>\n",
       "      <td>66948.322906</td>\n",
       "      <td>-0.228757</td>\n",
       "      <td>54990.121953</td>\n",
       "      <td>58941.815791</td>\n",
       "    </tr>\n",
       "  </tbody>\n",
       "</table>\n",
       "</div>"
      ],
      "text/plain": [
       "                   b0        b1          rmse    prediction\n",
       "results  66948.322906 -0.228757  54990.121953  58941.815791"
      ]
     },
     "execution_count": 46,
     "metadata": {},
     "output_type": "execute_result"
    }
   ],
   "source": [
    "multi_gradient_descent(x = bikedata.km_driven, y = bikedata.selling_price, \n",
    "                       b0 = 60000, b1 = 0, d0 = 0.005, d1 = 0.005, predictor = 35000)"
   ]
  },
  {
   "cell_type": "markdown",
   "id": "82b675bd-8c9d-40a9-bf13-107a7f5363e6",
   "metadata": {},
   "source": [
    "Again it is encouraging to see that the selling price goes down as the km driven goes up.  Using selling price as our y value and km driven as our x value, we can compare the RMSEs of both algorithms.  The RMSE of the grid search algorithm was 54,987.2 while the RMSE of the gradient descent was 54,990.1.  These are pretty close, and it would be hard to choose between them, but based on the amount of time it takes to run, the gradient descent algorithm is better."
   ]
  }
 ],
 "metadata": {
  "kernelspec": {
   "display_name": "Python 3 (ipykernel)",
   "language": "python",
   "name": "python3"
  },
  "language_info": {
   "codemirror_mode": {
    "name": "ipython",
    "version": 3
   },
   "file_extension": ".py",
   "mimetype": "text/x-python",
   "name": "python",
   "nbconvert_exporter": "python",
   "pygments_lexer": "ipython3",
   "version": "3.10.5"
  }
 },
 "nbformat": 4,
 "nbformat_minor": 5
}
